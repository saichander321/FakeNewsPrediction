{
  "nbformat": 4,
  "nbformat_minor": 0,
  "metadata": {
    "colab": {
      "name": "Fake_News _Prediction.ipynb",
      "provenance": [],
      "collapsed_sections": []
    },
    "kernelspec": {
      "name": "python3",
      "display_name": "Python 3"
    },
    "language_info": {
      "name": "python"
    }
  },
  "cells": [
    {
      "cell_type": "code",
      "metadata": {
        "id": "SnbfxK3eGLO3"
      },
      "source": [
        "!pip install -U -q PyDrive\n",
        "from pydrive.auth import GoogleAuth\n",
        "from pydrive.drive import GoogleDrive\n",
        "from google.colab import auth\n",
        "from oauth2client.client import GoogleCredentials"
      ],
      "execution_count": 1,
      "outputs": []
    },
    {
      "cell_type": "code",
      "metadata": {
        "id": "c3Su0iQAGR5n"
      },
      "source": [
        "auth.authenticate_user()\n",
        "gauth = GoogleAuth()\n",
        "gauth.credentials = GoogleCredentials.get_application_default()\n",
        "drive = GoogleDrive(gauth)"
      ],
      "execution_count": 2,
      "outputs": []
    },
    {
      "cell_type": "code",
      "metadata": {
        "id": "IPTHTDkeGYeo"
      },
      "source": [
        "downloaded = drive.CreateFile({'id':'13PP5bLk-vHthZvSJ8EmuHK11IpWJ05o7'}) # replace the id with id of file you want to access\n",
        "downloaded.GetContentFile('train_news.csv') \n"
      ],
      "execution_count": 5,
      "outputs": []
    },
    {
      "cell_type": "code",
      "metadata": {
        "id": "SBeAHJxzHO-S"
      },
      "source": [
        "#Importing the libraries\n",
        "import pandas as pd\n",
        "import numpy as np\n",
        "import matplotlib.pyplot as plt\n",
        "import seaborn as sns\n",
        "import matplotlib\n",
        "\n",
        "#Importing the warnings\n",
        "import warnings\n",
        "warnings.filterwarnings('ignore')"
      ],
      "execution_count": 6,
      "outputs": []
    },
    {
      "cell_type": "code",
      "metadata": {
        "id": "PLOylv3SHhsI"
      },
      "source": [
        "df=pd.read_csv(\"train_news.csv\")"
      ],
      "execution_count": 7,
      "outputs": []
    },
    {
      "cell_type": "code",
      "metadata": {
        "colab": {
          "base_uri": "https://localhost:8080/",
          "height": 204
        },
        "id": "7u9ZzT9lHm0k",
        "outputId": "447938c8-686e-425b-fc1a-ff40b26478d4"
      },
      "source": [
        "df.head()"
      ],
      "execution_count": 8,
      "outputs": [
        {
          "output_type": "execute_result",
          "data": {
            "text/html": [
              "<div>\n",
              "<style scoped>\n",
              "    .dataframe tbody tr th:only-of-type {\n",
              "        vertical-align: middle;\n",
              "    }\n",
              "\n",
              "    .dataframe tbody tr th {\n",
              "        vertical-align: top;\n",
              "    }\n",
              "\n",
              "    .dataframe thead th {\n",
              "        text-align: right;\n",
              "    }\n",
              "</style>\n",
              "<table border=\"1\" class=\"dataframe\">\n",
              "  <thead>\n",
              "    <tr style=\"text-align: right;\">\n",
              "      <th></th>\n",
              "      <th>Unnamed: 0</th>\n",
              "      <th>id</th>\n",
              "      <th>headline</th>\n",
              "      <th>written_by</th>\n",
              "      <th>news</th>\n",
              "      <th>label</th>\n",
              "    </tr>\n",
              "  </thead>\n",
              "  <tbody>\n",
              "    <tr>\n",
              "      <th>0</th>\n",
              "      <td>0</td>\n",
              "      <td>9653</td>\n",
              "      <td>Ethics Questions Dogged Agriculture Nominee as...</td>\n",
              "      <td>Eric Lipton and Steve Eder</td>\n",
              "      <td>WASHINGTON  —   In Sonny Perdue’s telling, Geo...</td>\n",
              "      <td>0</td>\n",
              "    </tr>\n",
              "    <tr>\n",
              "      <th>1</th>\n",
              "      <td>1</td>\n",
              "      <td>10041</td>\n",
              "      <td>U.S. Must Dig Deep to Stop Argentina’s Lionel ...</td>\n",
              "      <td>David Waldstein</td>\n",
              "      <td>HOUSTON  —   Venezuela had a plan. It was a ta...</td>\n",
              "      <td>0</td>\n",
              "    </tr>\n",
              "    <tr>\n",
              "      <th>2</th>\n",
              "      <td>2</td>\n",
              "      <td>19113</td>\n",
              "      <td>Cotton to House: ’Do Not Walk the Plank and Vo...</td>\n",
              "      <td>Pam Key</td>\n",
              "      <td>Sunday on ABC’s “This Week,” while discussing ...</td>\n",
              "      <td>0</td>\n",
              "    </tr>\n",
              "    <tr>\n",
              "      <th>3</th>\n",
              "      <td>3</td>\n",
              "      <td>6868</td>\n",
              "      <td>Paul LePage, Besieged Maine Governor, Sends Co...</td>\n",
              "      <td>Jess Bidgood</td>\n",
              "      <td>AUGUSTA, Me.  —   The beleaguered Republican g...</td>\n",
              "      <td>0</td>\n",
              "    </tr>\n",
              "    <tr>\n",
              "      <th>4</th>\n",
              "      <td>4</td>\n",
              "      <td>7596</td>\n",
              "      <td>A Digital 9/11 If Trump Wins</td>\n",
              "      <td>Finian Cunningham</td>\n",
              "      <td>Finian Cunningham has written extensively on...</td>\n",
              "      <td>1</td>\n",
              "    </tr>\n",
              "  </tbody>\n",
              "</table>\n",
              "</div>"
            ],
            "text/plain": [
              "   Unnamed: 0     id  ...                                               news label\n",
              "0           0   9653  ...  WASHINGTON  —   In Sonny Perdue’s telling, Geo...     0\n",
              "1           1  10041  ...  HOUSTON  —   Venezuela had a plan. It was a ta...     0\n",
              "2           2  19113  ...  Sunday on ABC’s “This Week,” while discussing ...     0\n",
              "3           3   6868  ...  AUGUSTA, Me.  —   The beleaguered Republican g...     0\n",
              "4           4   7596  ...    Finian Cunningham has written extensively on...     1\n",
              "\n",
              "[5 rows x 6 columns]"
            ]
          },
          "metadata": {
            "tags": []
          },
          "execution_count": 8
        }
      ]
    },
    {
      "cell_type": "code",
      "metadata": {
        "colab": {
          "base_uri": "https://localhost:8080/"
        },
        "id": "3k04PSxOHp2N",
        "outputId": "5650503e-d6ab-420d-feb7-53b3e27632b0"
      },
      "source": [
        "df.info()"
      ],
      "execution_count": 9,
      "outputs": [
        {
          "output_type": "stream",
          "text": [
            "<class 'pandas.core.frame.DataFrame'>\n",
            "RangeIndex: 20800 entries, 0 to 20799\n",
            "Data columns (total 6 columns):\n",
            " #   Column      Non-Null Count  Dtype \n",
            "---  ------      --------------  ----- \n",
            " 0   Unnamed: 0  20800 non-null  int64 \n",
            " 1   id          20800 non-null  int64 \n",
            " 2   headline    20242 non-null  object\n",
            " 3   written_by  18843 non-null  object\n",
            " 4   news        20761 non-null  object\n",
            " 5   label       20800 non-null  int64 \n",
            "dtypes: int64(3), object(3)\n",
            "memory usage: 975.1+ KB\n"
          ],
          "name": "stdout"
        }
      ]
    },
    {
      "cell_type": "code",
      "metadata": {
        "id": "SYUOf87_HsAs"
      },
      "source": [
        "df.drop(['Unnamed: 0'],axis=1,inplace=True)"
      ],
      "execution_count": 10,
      "outputs": []
    },
    {
      "cell_type": "markdown",
      "metadata": {
        "id": "ubTgYNqgH5Gj"
      },
      "source": [
        "Removing the unnamed column:"
      ]
    },
    {
      "cell_type": "code",
      "metadata": {
        "colab": {
          "base_uri": "https://localhost:8080/",
          "height": 419
        },
        "id": "VkBpsbtGH8kr",
        "outputId": "a81aa095-2d54-41f5-d395-6ee27de83e22"
      },
      "source": [
        "df"
      ],
      "execution_count": 12,
      "outputs": [
        {
          "output_type": "execute_result",
          "data": {
            "text/html": [
              "<div>\n",
              "<style scoped>\n",
              "    .dataframe tbody tr th:only-of-type {\n",
              "        vertical-align: middle;\n",
              "    }\n",
              "\n",
              "    .dataframe tbody tr th {\n",
              "        vertical-align: top;\n",
              "    }\n",
              "\n",
              "    .dataframe thead th {\n",
              "        text-align: right;\n",
              "    }\n",
              "</style>\n",
              "<table border=\"1\" class=\"dataframe\">\n",
              "  <thead>\n",
              "    <tr style=\"text-align: right;\">\n",
              "      <th></th>\n",
              "      <th>id</th>\n",
              "      <th>headline</th>\n",
              "      <th>written_by</th>\n",
              "      <th>news</th>\n",
              "      <th>label</th>\n",
              "    </tr>\n",
              "  </thead>\n",
              "  <tbody>\n",
              "    <tr>\n",
              "      <th>0</th>\n",
              "      <td>9653</td>\n",
              "      <td>Ethics Questions Dogged Agriculture Nominee as...</td>\n",
              "      <td>Eric Lipton and Steve Eder</td>\n",
              "      <td>WASHINGTON  —   In Sonny Perdue’s telling, Geo...</td>\n",
              "      <td>0</td>\n",
              "    </tr>\n",
              "    <tr>\n",
              "      <th>1</th>\n",
              "      <td>10041</td>\n",
              "      <td>U.S. Must Dig Deep to Stop Argentina’s Lionel ...</td>\n",
              "      <td>David Waldstein</td>\n",
              "      <td>HOUSTON  —   Venezuela had a plan. It was a ta...</td>\n",
              "      <td>0</td>\n",
              "    </tr>\n",
              "    <tr>\n",
              "      <th>2</th>\n",
              "      <td>19113</td>\n",
              "      <td>Cotton to House: ’Do Not Walk the Plank and Vo...</td>\n",
              "      <td>Pam Key</td>\n",
              "      <td>Sunday on ABC’s “This Week,” while discussing ...</td>\n",
              "      <td>0</td>\n",
              "    </tr>\n",
              "    <tr>\n",
              "      <th>3</th>\n",
              "      <td>6868</td>\n",
              "      <td>Paul LePage, Besieged Maine Governor, Sends Co...</td>\n",
              "      <td>Jess Bidgood</td>\n",
              "      <td>AUGUSTA, Me.  —   The beleaguered Republican g...</td>\n",
              "      <td>0</td>\n",
              "    </tr>\n",
              "    <tr>\n",
              "      <th>4</th>\n",
              "      <td>7596</td>\n",
              "      <td>A Digital 9/11 If Trump Wins</td>\n",
              "      <td>Finian Cunningham</td>\n",
              "      <td>Finian Cunningham has written extensively on...</td>\n",
              "      <td>1</td>\n",
              "    </tr>\n",
              "    <tr>\n",
              "      <th>...</th>\n",
              "      <td>...</td>\n",
              "      <td>...</td>\n",
              "      <td>...</td>\n",
              "      <td>...</td>\n",
              "      <td>...</td>\n",
              "    </tr>\n",
              "    <tr>\n",
              "      <th>20795</th>\n",
              "      <td>5671</td>\n",
              "      <td>NaN</td>\n",
              "      <td>NeverSurrender</td>\n",
              "      <td>No, you'll be a dog licking of the vomit of yo...</td>\n",
              "      <td>1</td>\n",
              "    </tr>\n",
              "    <tr>\n",
              "      <th>20796</th>\n",
              "      <td>14831</td>\n",
              "      <td>Albert Pike and the European Migrant Crisis</td>\n",
              "      <td>Rixon Stewart</td>\n",
              "      <td>By Rixon Stewart on November 5, 2016 Rixon Ste...</td>\n",
              "      <td>1</td>\n",
              "    </tr>\n",
              "    <tr>\n",
              "      <th>20797</th>\n",
              "      <td>18142</td>\n",
              "      <td>Dakota Access Caught Infiltrating Protests to ...</td>\n",
              "      <td>Eddy Lavine</td>\n",
              "      <td>posted by Eddie You know the Dakota Access Pip...</td>\n",
              "      <td>1</td>\n",
              "    </tr>\n",
              "    <tr>\n",
              "      <th>20798</th>\n",
              "      <td>12139</td>\n",
              "      <td>How to Stretch the Summer Solstice - The New Y...</td>\n",
              "      <td>Alison S. Cohn</td>\n",
              "      <td>It’s officially summer, and the Society Boutiq...</td>\n",
              "      <td>0</td>\n",
              "    </tr>\n",
              "    <tr>\n",
              "      <th>20799</th>\n",
              "      <td>15660</td>\n",
              "      <td>Emory University to Pay for ’100 Percent’ of U...</td>\n",
              "      <td>Tom Ciccotta</td>\n",
              "      <td>Emory University in Atlanta, Georgia, has anno...</td>\n",
              "      <td>0</td>\n",
              "    </tr>\n",
              "  </tbody>\n",
              "</table>\n",
              "<p>20800 rows × 5 columns</p>\n",
              "</div>"
            ],
            "text/plain": [
              "          id  ... label\n",
              "0       9653  ...     0\n",
              "1      10041  ...     0\n",
              "2      19113  ...     0\n",
              "3       6868  ...     0\n",
              "4       7596  ...     1\n",
              "...      ...  ...   ...\n",
              "20795   5671  ...     1\n",
              "20796  14831  ...     1\n",
              "20797  18142  ...     1\n",
              "20798  12139  ...     0\n",
              "20799  15660  ...     0\n",
              "\n",
              "[20800 rows x 5 columns]"
            ]
          },
          "metadata": {
            "tags": []
          },
          "execution_count": 12
        }
      ]
    },
    {
      "cell_type": "code",
      "metadata": {
        "id": "G-QnVTDJH__g"
      },
      "source": [
        ""
      ],
      "execution_count": null,
      "outputs": []
    },
    {
      "cell_type": "markdown",
      "metadata": {
        "id": "_I8OXKqoIF61"
      },
      "source": [
        "#### Observation: we can see there are 20800 samples of news data in 5 columns named id, headline, written_by,news and label"
      ]
    },
    {
      "cell_type": "code",
      "metadata": {
        "id": "t1-ZSsOhIHwD"
      },
      "source": [
        ""
      ],
      "execution_count": null,
      "outputs": []
    },
    {
      "cell_type": "markdown",
      "metadata": {
        "id": "A-oO9arTIJro"
      },
      "source": [
        "#### And The label has two values : 1 if the news is fake and 0 if it is fact"
      ]
    },
    {
      "cell_type": "code",
      "metadata": {
        "id": "_SXSYcATIKNa"
      },
      "source": [
        "## Checking for null values in any of the columns:"
      ],
      "execution_count": 13,
      "outputs": []
    },
    {
      "cell_type": "code",
      "metadata": {
        "colab": {
          "base_uri": "https://localhost:8080/"
        },
        "id": "zUwqiX9VIMK4",
        "outputId": "5f2a40b2-0469-42cf-96a8-344633e600d6"
      },
      "source": [
        "df.isnull().any()"
      ],
      "execution_count": 14,
      "outputs": [
        {
          "output_type": "execute_result",
          "data": {
            "text/plain": [
              "id            False\n",
              "headline       True\n",
              "written_by     True\n",
              "news           True\n",
              "label         False\n",
              "dtype: bool"
            ]
          },
          "metadata": {
            "tags": []
          },
          "execution_count": 14
        }
      ]
    },
    {
      "cell_type": "code",
      "metadata": {
        "id": "ECrrnTL6IN0C"
      },
      "source": [
        ""
      ],
      "execution_count": null,
      "outputs": []
    },
    {
      "cell_type": "markdown",
      "metadata": {
        "id": "lR5nYhbLIP3V"
      },
      "source": [
        "So There are null values in the object rows."
      ]
    },
    {
      "cell_type": "code",
      "metadata": {
        "colab": {
          "base_uri": "https://localhost:8080/"
        },
        "id": "sqeEdpBPIQIE",
        "outputId": "3a603cc9-9209-4124-bc9e-915a8a3b1ebc"
      },
      "source": [
        "#Checking the number of null values:\n",
        "df.isnull().sum()"
      ],
      "execution_count": 15,
      "outputs": [
        {
          "output_type": "execute_result",
          "data": {
            "text/plain": [
              "id               0\n",
              "headline       558\n",
              "written_by    1957\n",
              "news            39\n",
              "label            0\n",
              "dtype: int64"
            ]
          },
          "metadata": {
            "tags": []
          },
          "execution_count": 15
        }
      ]
    },
    {
      "cell_type": "code",
      "metadata": {
        "id": "FBIksV-BIR2S"
      },
      "source": [
        ""
      ],
      "execution_count": null,
      "outputs": []
    },
    {
      "cell_type": "markdown",
      "metadata": {
        "id": "2R_0pLM1IWNE"
      },
      "source": [
        "#### Checking the percentage of null values:"
      ]
    },
    {
      "cell_type": "code",
      "metadata": {
        "colab": {
          "base_uri": "https://localhost:8080/"
        },
        "id": "BaTZEP6xIW2c",
        "outputId": "06ca2c25-409e-4248-f8ee-118f802cb55a"
      },
      "source": [
        "print(np.round(df['headline'].isnull().mean(), 4))\n",
        "print(np.round(df['written_by'].isnull().mean(), 4))\n",
        "print(np.round(df['news'].isnull().mean(), 4))"
      ],
      "execution_count": 16,
      "outputs": [
        {
          "output_type": "stream",
          "text": [
            "0.0268\n",
            "0.0941\n",
            "0.0019\n"
          ],
          "name": "stdout"
        }
      ]
    },
    {
      "cell_type": "code",
      "metadata": {
        "id": "8O_0zT9fIYbw"
      },
      "source": [
        "import missingno as mno"
      ],
      "execution_count": 17,
      "outputs": []
    },
    {
      "cell_type": "code",
      "metadata": {
        "colab": {
          "base_uri": "https://localhost:8080/",
          "height": 607
        },
        "id": "ZLoJ-QLSIaEO",
        "outputId": "a082f119-9784-4ece-a03c-7175dbb4df4a"
      },
      "source": [
        "mno.matrix(df,color=(0.30, 0.25, 0.5),fontsize=26,sparkline=False)"
      ],
      "execution_count": 18,
      "outputs": [
        {
          "output_type": "execute_result",
          "data": {
            "text/plain": [
              "<matplotlib.axes._subplots.AxesSubplot at 0x7f25a747c250>"
            ]
          },
          "metadata": {
            "tags": []
          },
          "execution_count": 18
        },
        {
          "output_type": "display_data",
          "data": {
            "image/png": "[encoded data removed]",
            "text/plain": [
              "<Figure size 1800x720 with 1 Axes>"
            ]
          },
          "metadata": {
            "tags": [],
            "needs_background": "light"
          }
        }
      ]
    },
    {
      "cell_type": "code",
      "metadata": {
        "id": "BsJseAuZIbmg"
      },
      "source": [
        "df=df.dropna()"
      ],
      "execution_count": 19,
      "outputs": []
    },
    {
      "cell_type": "code",
      "metadata": {
        "colab": {
          "base_uri": "https://localhost:8080/"
        },
        "id": "6L4XgG7AIdgR",
        "outputId": "6122f73a-026e-4db7-8bcf-9754fecc0c80"
      },
      "source": [
        "df.isnull().sum()"
      ],
      "execution_count": 20,
      "outputs": [
        {
          "output_type": "execute_result",
          "data": {
            "text/plain": [
              "id            0\n",
              "headline      0\n",
              "written_by    0\n",
              "news          0\n",
              "label         0\n",
              "dtype: int64"
            ]
          },
          "metadata": {
            "tags": []
          },
          "execution_count": 20
        }
      ]
    },
    {
      "cell_type": "code",
      "metadata": {
        "id": "gbn5m4lGIfX-"
      },
      "source": [
        ""
      ],
      "execution_count": null,
      "outputs": []
    },
    {
      "cell_type": "markdown",
      "metadata": {
        "id": "kKNFXAIMIhLw"
      },
      "source": [
        "#### Now the missing values are removed"
      ]
    },
    {
      "cell_type": "code",
      "metadata": {
        "id": "CLNZazveIhnt"
      },
      "source": [
        ""
      ],
      "execution_count": null,
      "outputs": []
    },
    {
      "cell_type": "markdown",
      "metadata": {
        "id": "3B3U-kOaIjbu"
      },
      "source": [
        "Univariate Analysis:"
      ]
    },
    {
      "cell_type": "code",
      "metadata": {
        "colab": {
          "base_uri": "https://localhost:8080/"
        },
        "id": "QBPeoRrkIj5N",
        "outputId": "fa2d96c3-f6dd-405d-cdc0-2eed9e52ba98"
      },
      "source": [
        "#Headline column unique values\n",
        "print(\"number of unique values\",format(df['headline'].nunique()))"
      ],
      "execution_count": 21,
      "outputs": [
        {
          "output_type": "stream",
          "text": [
            "number of unique values 17931\n"
          ],
          "name": "stdout"
        }
      ]
    },
    {
      "cell_type": "code",
      "metadata": {
        "colab": {
          "base_uri": "https://localhost:8080/"
        },
        "id": "qeUip67fIlVm",
        "outputId": "65453af0-3063-4548-db35-94562b16786f"
      },
      "source": [
        "#Written_By unique values\n",
        "print(\"number of unique values\",format(df['written_by'].nunique()))"
      ],
      "execution_count": 22,
      "outputs": [
        {
          "output_type": "stream",
          "text": [
            "number of unique values 3838\n"
          ],
          "name": "stdout"
        }
      ]
    },
    {
      "cell_type": "code",
      "metadata": {
        "colab": {
          "base_uri": "https://localhost:8080/"
        },
        "id": "d8kJMwRNImru",
        "outputId": "593d0a98-1b98-44a0-c10b-4ed9a1d66efa"
      },
      "source": [
        "#News unique values\n",
        "print(\"number of unique values\",format(df['news'].nunique()))"
      ],
      "execution_count": 23,
      "outputs": [
        {
          "output_type": "stream",
          "text": [
            "number of unique values 18017\n"
          ],
          "name": "stdout"
        }
      ]
    },
    {
      "cell_type": "code",
      "metadata": {
        "colab": {
          "base_uri": "https://localhost:8080/",
          "height": 313
        },
        "id": "xgi2kIi4Inxe",
        "outputId": "b28041ad-cb95-4713-ce4f-ab9f54f58e36"
      },
      "source": [
        "#Count of label\n",
        "print(\"unique values of label\",df['label'].nunique())\n",
        "sns.countplot(df['label'])"
      ],
      "execution_count": 24,
      "outputs": [
        {
          "output_type": "stream",
          "text": [
            "unique values of label 2\n"
          ],
          "name": "stdout"
        },
        {
          "output_type": "execute_result",
          "data": {
            "text/plain": [
              "<matplotlib.axes._subplots.AxesSubplot at 0x7f259db6d190>"
            ]
          },
          "metadata": {
            "tags": []
          },
          "execution_count": 24
        },
        {
          "output_type": "display_data",
          "data": {
            "image/png": "[encoded data removed]",
            "text/plain": [
              "<Figure size 432x288 with 1 Axes>"
            ]
          },
          "metadata": {
            "tags": [],
            "needs_background": "light"
          }
        }
      ]
    },
    {
      "cell_type": "code",
      "metadata": {
        "id": "MiRWVgylIplV"
      },
      "source": [
        ""
      ],
      "execution_count": null,
      "outputs": []
    },
    {
      "cell_type": "markdown",
      "metadata": {
        "id": "WAEfkinKIrYy"
      },
      "source": [
        "#### Checking the frequency of label values:"
      ]
    },
    {
      "cell_type": "code",
      "metadata": {
        "colab": {
          "base_uri": "https://localhost:8080/"
        },
        "id": "X2M8X5bQIr1A",
        "outputId": "6e4ceb9c-000b-4324-cd5e-668baa5469ca"
      },
      "source": [
        "df.label.value_counts()"
      ],
      "execution_count": 25,
      "outputs": [
        {
          "output_type": "execute_result",
          "data": {
            "text/plain": [
              "0    10361\n",
              "1     7924\n",
              "Name: label, dtype: int64"
            ]
          },
          "metadata": {
            "tags": []
          },
          "execution_count": 25
        }
      ]
    },
    {
      "cell_type": "code",
      "metadata": {
        "id": "eLVPiFfDIx9v"
      },
      "source": [
        ""
      ],
      "execution_count": null,
      "outputs": []
    },
    {
      "cell_type": "markdown",
      "metadata": {
        "id": "MVlevOXpIxix"
      },
      "source": [
        "Observation: We can observe that there are 10361 real news and 7964 fake news "
      ]
    },
    {
      "cell_type": "code",
      "metadata": {
        "colab": {
          "base_uri": "https://localhost:8080/"
        },
        "id": "gVdTVYcGI0eg",
        "outputId": "787d3ccf-9a7c-4e34-ad9c-edba5d993711"
      },
      "source": [
        "##### Checking the percentage of the label counts.\n",
        "print(\"real news percentage:\",round(len(df[df['label']==0])/len(df['label']),3)*100,'%')\n",
        "print(\"fake news percentage:\",round(len(df[df['label']==1])/len(df['label']),3)*100,'%')"
      ],
      "execution_count": 28,
      "outputs": [
        {
          "output_type": "stream",
          "text": [
            "real news percentage: 56.699999999999996 %\n",
            "fake news percentage: 43.3 %\n"
          ],
          "name": "stdout"
        }
      ]
    },
    {
      "cell_type": "code",
      "metadata": {
        "id": "wHngE1RTI1nl"
      },
      "source": [
        ""
      ],
      "execution_count": null,
      "outputs": []
    },
    {
      "cell_type": "markdown",
      "metadata": {
        "id": "sW8O0wPWI7M-"
      },
      "source": [
        "Observation :The data is almost equally balance by seeing the percentage .<br> -So while creating the model data balancing is not required"
      ]
    },
    {
      "cell_type": "markdown",
      "metadata": {
        "id": "Xpy3FtTVJDYI"
      },
      "source": [
        "### Data Preprocessing/Data Cleaning:\n"
      ]
    },
    {
      "cell_type": "code",
      "metadata": {
        "id": "d_lvfD1CJDxw"
      },
      "source": [
        "import nltk\n",
        "import string\n",
        "import re\n",
        "from nltk.corpus import stopwords"
      ],
      "execution_count": 29,
      "outputs": []
    },
    {
      "cell_type": "markdown",
      "metadata": {
        "id": "5hp274jsJG7s"
      },
      "source": [
        "#### Creating a length of news column to compare before and after cleaning the data"
      ]
    },
    {
      "cell_type": "code",
      "metadata": {
        "colab": {
          "base_uri": "https://localhost:8080/",
          "height": 204
        },
        "id": "_vd-Q_PmJHNy",
        "outputId": "e909fb8e-44c3-45fe-9916-4b5fb6c0c64e"
      },
      "source": [
        "df['news_length'] = df['news'].str.len()\n",
        "df.head()"
      ],
      "execution_count": 30,
      "outputs": [
        {
          "output_type": "execute_result",
          "data": {
            "text/html": [
              "<div>\n",
              "<style scoped>\n",
              "    .dataframe tbody tr th:only-of-type {\n",
              "        vertical-align: middle;\n",
              "    }\n",
              "\n",
              "    .dataframe tbody tr th {\n",
              "        vertical-align: top;\n",
              "    }\n",
              "\n",
              "    .dataframe thead th {\n",
              "        text-align: right;\n",
              "    }\n",
              "</style>\n",
              "<table border=\"1\" class=\"dataframe\">\n",
              "  <thead>\n",
              "    <tr style=\"text-align: right;\">\n",
              "      <th></th>\n",
              "      <th>id</th>\n",
              "      <th>headline</th>\n",
              "      <th>written_by</th>\n",
              "      <th>news</th>\n",
              "      <th>label</th>\n",
              "      <th>news_length</th>\n",
              "    </tr>\n",
              "  </thead>\n",
              "  <tbody>\n",
              "    <tr>\n",
              "      <th>0</th>\n",
              "      <td>9653</td>\n",
              "      <td>Ethics Questions Dogged Agriculture Nominee as...</td>\n",
              "      <td>Eric Lipton and Steve Eder</td>\n",
              "      <td>WASHINGTON  —   In Sonny Perdue’s telling, Geo...</td>\n",
              "      <td>0</td>\n",
              "      <td>7936</td>\n",
              "    </tr>\n",
              "    <tr>\n",
              "      <th>1</th>\n",
              "      <td>10041</td>\n",
              "      <td>U.S. Must Dig Deep to Stop Argentina’s Lionel ...</td>\n",
              "      <td>David Waldstein</td>\n",
              "      <td>HOUSTON  —   Venezuela had a plan. It was a ta...</td>\n",
              "      <td>0</td>\n",
              "      <td>6112</td>\n",
              "    </tr>\n",
              "    <tr>\n",
              "      <th>2</th>\n",
              "      <td>19113</td>\n",
              "      <td>Cotton to House: ’Do Not Walk the Plank and Vo...</td>\n",
              "      <td>Pam Key</td>\n",
              "      <td>Sunday on ABC’s “This Week,” while discussing ...</td>\n",
              "      <td>0</td>\n",
              "      <td>425</td>\n",
              "    </tr>\n",
              "    <tr>\n",
              "      <th>3</th>\n",
              "      <td>6868</td>\n",
              "      <td>Paul LePage, Besieged Maine Governor, Sends Co...</td>\n",
              "      <td>Jess Bidgood</td>\n",
              "      <td>AUGUSTA, Me.  —   The beleaguered Republican g...</td>\n",
              "      <td>0</td>\n",
              "      <td>6516</td>\n",
              "    </tr>\n",
              "    <tr>\n",
              "      <th>4</th>\n",
              "      <td>7596</td>\n",
              "      <td>A Digital 9/11 If Trump Wins</td>\n",
              "      <td>Finian Cunningham</td>\n",
              "      <td>Finian Cunningham has written extensively on...</td>\n",
              "      <td>1</td>\n",
              "      <td>9164</td>\n",
              "    </tr>\n",
              "  </tbody>\n",
              "</table>\n",
              "</div>"
            ],
            "text/plain": [
              "      id                                           headline  ... label news_length\n",
              "0   9653  Ethics Questions Dogged Agriculture Nominee as...  ...     0        7936\n",
              "1  10041  U.S. Must Dig Deep to Stop Argentina’s Lionel ...  ...     0        6112\n",
              "2  19113  Cotton to House: ’Do Not Walk the Plank and Vo...  ...     0         425\n",
              "3   6868  Paul LePage, Besieged Maine Governor, Sends Co...  ...     0        6516\n",
              "4   7596                       A Digital 9/11 If Trump Wins  ...     1        9164\n",
              "\n",
              "[5 rows x 6 columns]"
            ]
          },
          "metadata": {
            "tags": []
          },
          "execution_count": 30
        }
      ]
    },
    {
      "cell_type": "code",
      "metadata": {
        "id": "q8E1FuRpJI5M"
      },
      "source": [
        ""
      ],
      "execution_count": null,
      "outputs": []
    },
    {
      "cell_type": "markdown",
      "metadata": {
        "id": "sPYeOAb7JKt9"
      },
      "source": [
        "#### 1.Removing Html tags"
      ]
    },
    {
      "cell_type": "code",
      "metadata": {
        "colab": {
          "base_uri": "https://localhost:8080/",
          "height": 69
        },
        "id": "6BZXeer4JLEC",
        "outputId": "1933f4ce-cd81-44d0-c521-bef496ee4088"
      },
      "source": [
        "def clean(text):\n",
        "    cleaned = re.compile(r\"<.*?>\")\n",
        "    return re.sub(cleaned,\" \",text)     \n",
        "\n",
        "df.news = df.news.apply(clean)\n",
        "df.news[2]"
      ],
      "execution_count": 31,
      "outputs": [
        {
          "output_type": "execute_result",
          "data": {
            "application/vnd.google.colaboratory.intrinsic+json": {
              "type": "string"
            },
            "text/plain": [
              "'Sunday on ABC’s “This Week,” while discussing the Republican plan to repeal and replace Obamacare Sen. Tom Cotton ( ) warned GOP House members “Do not walk the plank and vote for a bill that cannot pass the Senate and then have to face the consequences of that vote. ”  He added, “The bill probably can be fixed, but it’s going to take a lot of carpentry on that framework. ” (  The Hill) Follow Pam Key on Twitter @pamkeyNEN'"
            ]
          },
          "metadata": {
            "tags": []
          },
          "execution_count": 31
        }
      ]
    },
    {
      "cell_type": "code",
      "metadata": {
        "id": "EREns6g1JMGV"
      },
      "source": [
        ""
      ],
      "execution_count": null,
      "outputs": []
    },
    {
      "cell_type": "markdown",
      "metadata": {
        "id": "F5xZuv-xJOa3"
      },
      "source": [
        "#### 2.Removing special characters\n"
      ]
    },
    {
      "cell_type": "code",
      "metadata": {
        "colab": {
          "base_uri": "https://localhost:8080/",
          "height": 69
        },
        "id": "6Ln7QIFEJO_y",
        "outputId": "bcf5cf05-345f-474b-b194-0623c6f41d4a"
      },
      "source": [
        "def is_special(text):\n",
        "    empty = ''\n",
        "    for i in text:\n",
        "        if i.isalnum():\n",
        "            empty = empty + i\n",
        "        else:\n",
        "            empty = empty + ' '\n",
        "    return empty\n",
        "\n",
        "df.news = df.news.apply(is_special)\n",
        "df.news[2]"
      ],
      "execution_count": 32,
      "outputs": [
        {
          "output_type": "execute_result",
          "data": {
            "application/vnd.google.colaboratory.intrinsic+json": {
              "type": "string"
            },
            "text/plain": [
              "'Sunday on ABC s  This Week   while discussing the Republican plan to repeal and replace Obamacare Sen  Tom Cotton     warned GOP House members  Do not walk the plank and vote for a bill that cannot pass the Senate and then have to face the consequences of that vote     He added   The bill probably can be fixed  but it s going to take a lot of carpentry on that framework       The Hill  Follow Pam Key on Twitter  pamkeyNEN'"
            ]
          },
          "metadata": {
            "tags": []
          },
          "execution_count": 32
        }
      ]
    },
    {
      "cell_type": "markdown",
      "metadata": {
        "id": "gxuh0TZOJRHh"
      },
      "source": [
        "#### 3.Lower case\n"
      ]
    },
    {
      "cell_type": "code",
      "metadata": {
        "colab": {
          "base_uri": "https://localhost:8080/",
          "height": 69
        },
        "id": "Xu1opZhDJRXr",
        "outputId": "d49b8d80-46b6-4136-a815-14eda8362e56"
      },
      "source": [
        "def lower(text):\n",
        "    return text.lower()\n",
        "\n",
        "df.news = df.news.apply(lower)\n",
        "df.news[2]"
      ],
      "execution_count": 33,
      "outputs": [
        {
          "output_type": "execute_result",
          "data": {
            "application/vnd.google.colaboratory.intrinsic+json": {
              "type": "string"
            },
            "text/plain": [
              "'sunday on abc s  this week   while discussing the republican plan to repeal and replace obamacare sen  tom cotton     warned gop house members  do not walk the plank and vote for a bill that cannot pass the senate and then have to face the consequences of that vote     he added   the bill probably can be fixed  but it s going to take a lot of carpentry on that framework       the hill  follow pam key on twitter  pamkeynen'"
            ]
          },
          "metadata": {
            "tags": []
          },
          "execution_count": 33
        }
      ]
    },
    {
      "cell_type": "code",
      "metadata": {
        "id": "qnxO31sYJSPI"
      },
      "source": [
        ""
      ],
      "execution_count": null,
      "outputs": []
    },
    {
      "cell_type": "markdown",
      "metadata": {
        "id": "UywUAEACJUPs"
      },
      "source": [
        "#### 4. Removing stopwords"
      ]
    },
    {
      "cell_type": "code",
      "metadata": {
        "colab": {
          "base_uri": "https://localhost:8080/"
        },
        "id": "QDRsGaCHJUrB",
        "outputId": "3cc7e500-d86d-4563-ade5-e8bf87d9cc93"
      },
      "source": [
        "nltk.download('stopwords')   #For stopwords\n",
        "nltk.download('punkt')\n",
        "from nltk.tokenize import word_tokenize\n",
        "\n",
        "def remove_stopwords(text):\n",
        "    stop_words = set(stopwords.words('english'))\n",
        "    words = word_tokenize(text)\n",
        "    return [w for w in words if w not in stop_words]\n",
        "\n",
        "df.news = df.news.apply(remove_stopwords)\n",
        "df.news[2]"
      ],
      "execution_count": 37,
      "outputs": [
        {
          "output_type": "stream",
          "text": [
            "[nltk_data] Downloading package stopwords to /root/nltk_data...\n",
            "[nltk_data]   Package stopwords is already up-to-date!\n",
            "[nltk_data] Downloading package punkt to /root/nltk_data...\n",
            "[nltk_data]   Unzipping tokenizers/punkt.zip.\n"
          ],
          "name": "stdout"
        },
        {
          "output_type": "execute_result",
          "data": {
            "text/plain": [
              "['sunday',\n",
              " 'abc',\n",
              " 'week',\n",
              " 'discussing',\n",
              " 'republican',\n",
              " 'plan',\n",
              " 'repeal',\n",
              " 'replace',\n",
              " 'obamacare',\n",
              " 'sen',\n",
              " 'tom',\n",
              " 'cotton',\n",
              " 'warned',\n",
              " 'gop',\n",
              " 'house',\n",
              " 'members',\n",
              " 'walk',\n",
              " 'plank',\n",
              " 'vote',\n",
              " 'bill',\n",
              " 'pass',\n",
              " 'senate',\n",
              " 'face',\n",
              " 'consequences',\n",
              " 'vote',\n",
              " 'added',\n",
              " 'bill',\n",
              " 'probably',\n",
              " 'fixed',\n",
              " 'going',\n",
              " 'take',\n",
              " 'lot',\n",
              " 'carpentry',\n",
              " 'framework',\n",
              " 'hill',\n",
              " 'follow',\n",
              " 'pam',\n",
              " 'key',\n",
              " 'twitter',\n",
              " 'pamkeynen']"
            ]
          },
          "metadata": {
            "tags": []
          },
          "execution_count": 37
        }
      ]
    },
    {
      "cell_type": "markdown",
      "metadata": {
        "id": "FBdNVw-RKaKa"
      },
      "source": [
        "#### 5.stemming"
      ]
    },
    {
      "cell_type": "code",
      "metadata": {
        "colab": {
          "base_uri": "https://localhost:8080/",
          "height": 52
        },
        "id": "VUmk2gGhKaxN",
        "outputId": "07a8c133-0ad9-4963-ff72-d3e0195e1155"
      },
      "source": [
        "from nltk.stem import SnowballStemmer\n",
        "\n",
        "def stem_text(text):\n",
        "    snowball = SnowballStemmer('english')\n",
        "    return \" \".join([snowball.stem(w) for w in text])\n",
        "\n",
        "df.news = df.news.apply(stem_text)\n",
        "df.news[2]"
      ],
      "execution_count": 38,
      "outputs": [
        {
          "output_type": "execute_result",
          "data": {
            "application/vnd.google.colaboratory.intrinsic+json": {
              "type": "string"
            },
            "text/plain": [
              "'sunday abc week discuss republican plan repeal replac obamacar sen tom cotton warn gop hous member walk plank vote bill pass senat face consequ vote ad bill probabl fix go take lot carpentri framework hill follow pam key twitter pamkeynen'"
            ]
          },
          "metadata": {
            "tags": []
          },
          "execution_count": 38
        }
      ]
    },
    {
      "cell_type": "markdown",
      "metadata": {
        "id": "6U_Hk7GYKgLq"
      },
      "source": [
        "Now Lets check the news length after Data Cleaning by creating a new length column"
      ]
    },
    {
      "cell_type": "code",
      "metadata": {
        "id": "ucXfzqHEKg0d"
      },
      "source": [
        "df['cleaned_length']=df.news.str.len()"
      ],
      "execution_count": 39,
      "outputs": []
    },
    {
      "cell_type": "code",
      "metadata": {
        "colab": {
          "base_uri": "https://localhost:8080/",
          "height": 204
        },
        "id": "rZ5m4IC4KiRH",
        "outputId": "e653b872-b73c-4bc2-a7a9-d8d3964951cd"
      },
      "source": [
        "df.head()"
      ],
      "execution_count": 40,
      "outputs": [
        {
          "output_type": "execute_result",
          "data": {
            "text/html": [
              "<div>\n",
              "<style scoped>\n",
              "    .dataframe tbody tr th:only-of-type {\n",
              "        vertical-align: middle;\n",
              "    }\n",
              "\n",
              "    .dataframe tbody tr th {\n",
              "        vertical-align: top;\n",
              "    }\n",
              "\n",
              "    .dataframe thead th {\n",
              "        text-align: right;\n",
              "    }\n",
              "</style>\n",
              "<table border=\"1\" class=\"dataframe\">\n",
              "  <thead>\n",
              "    <tr style=\"text-align: right;\">\n",
              "      <th></th>\n",
              "      <th>id</th>\n",
              "      <th>headline</th>\n",
              "      <th>written_by</th>\n",
              "      <th>news</th>\n",
              "      <th>label</th>\n",
              "      <th>news_length</th>\n",
              "      <th>cleaned_length</th>\n",
              "    </tr>\n",
              "  </thead>\n",
              "  <tbody>\n",
              "    <tr>\n",
              "      <th>0</th>\n",
              "      <td>9653</td>\n",
              "      <td>Ethics Questions Dogged Agriculture Nominee as...</td>\n",
              "      <td>Eric Lipton and Steve Eder</td>\n",
              "      <td>washington sonni perdu tell georgian grow wear...</td>\n",
              "      <td>0</td>\n",
              "      <td>7936</td>\n",
              "      <td>4644</td>\n",
              "    </tr>\n",
              "    <tr>\n",
              "      <th>1</th>\n",
              "      <td>10041</td>\n",
              "      <td>U.S. Must Dig Deep to Stop Argentina’s Lionel ...</td>\n",
              "      <td>David Waldstein</td>\n",
              "      <td>houston venezuela plan tactic approach design ...</td>\n",
              "      <td>0</td>\n",
              "      <td>6112</td>\n",
              "      <td>3725</td>\n",
              "    </tr>\n",
              "    <tr>\n",
              "      <th>2</th>\n",
              "      <td>19113</td>\n",
              "      <td>Cotton to House: ’Do Not Walk the Plank and Vo...</td>\n",
              "      <td>Pam Key</td>\n",
              "      <td>sunday abc week discuss republican plan repeal...</td>\n",
              "      <td>0</td>\n",
              "      <td>425</td>\n",
              "      <td>238</td>\n",
              "    </tr>\n",
              "    <tr>\n",
              "      <th>3</th>\n",
              "      <td>6868</td>\n",
              "      <td>Paul LePage, Besieged Maine Governor, Sends Co...</td>\n",
              "      <td>Jess Bidgood</td>\n",
              "      <td>augusta beleagu republican governor main seem ...</td>\n",
              "      <td>0</td>\n",
              "      <td>6516</td>\n",
              "      <td>3809</td>\n",
              "    </tr>\n",
              "    <tr>\n",
              "      <th>4</th>\n",
              "      <td>7596</td>\n",
              "      <td>A Digital 9/11 If Trump Wins</td>\n",
              "      <td>Finian Cunningham</td>\n",
              "      <td>finian cunningham written extens intern affair...</td>\n",
              "      <td>1</td>\n",
              "      <td>9164</td>\n",
              "      <td>5786</td>\n",
              "    </tr>\n",
              "  </tbody>\n",
              "</table>\n",
              "</div>"
            ],
            "text/plain": [
              "      id  ... cleaned_length\n",
              "0   9653  ...           4644\n",
              "1  10041  ...           3725\n",
              "2  19113  ...            238\n",
              "3   6868  ...           3809\n",
              "4   7596  ...           5786\n",
              "\n",
              "[5 rows x 7 columns]"
            ]
          },
          "metadata": {
            "tags": []
          },
          "execution_count": 40
        }
      ]
    },
    {
      "cell_type": "code",
      "metadata": {
        "colab": {
          "base_uri": "https://localhost:8080/"
        },
        "id": "CShJtyjHKjOm",
        "outputId": "4c3c3589-c3ba-4f25-f615-f119ed885c2e"
      },
      "source": [
        "#Let us check how much data has been cleaned\n",
        "print(\"Removed length\",(df.news_length.sum()) - (df.cleaned_length.sum()))\n",
        "print(\"Before:\",df.news_length.sum())\n",
        "print(\"after:\",df.cleaned_length.sum())"
      ],
      "execution_count": 41,
      "outputs": [
        {
          "output_type": "stream",
          "text": [
            "Removed length 35225392\n",
            "Before: 87771325\n",
            "after: 52545933\n"
          ],
          "name": "stdout"
        }
      ]
    },
    {
      "cell_type": "markdown",
      "metadata": {
        "id": "ZYSVXVfTLJvJ"
      },
      "source": [
        "We can observe that there is so much data cleaned ."
      ]
    },
    {
      "cell_type": "markdown",
      "metadata": {
        "id": "H1uVaJtOLuff"
      },
      "source": [
        "### Checking loud words in original data"
      ]
    },
    {
      "cell_type": "code",
      "metadata": {
        "colab": {
          "base_uri": "https://localhost:8080/",
          "height": 545
        },
        "id": "Jn31OxSpLMt8",
        "outputId": "aa69567a-9946-46d1-9109-8816d98aaff5"
      },
      "source": [
        "from wordcloud import WordCloud\n",
        "spams = df['news'][df['label']==1]\n",
        "spam_cloud = WordCloud(width=700,height=500,background_color='white',max_words=20).generate(' '.join(spams))\n",
        "\n",
        "plt.figure(figsize=(10,8),facecolor='r')\n",
        "plt.imshow(spam_cloud)\n",
        "plt.axis('off')\n",
        "plt.tight_layout(pad=0)\n",
        "plt.show()"
      ],
      "execution_count": 43,
      "outputs": [
        {
          "output_type": "display_data",
          "data": {
            "image/png": "[encoded data removed]",
            "text/plain": [
              "<Figure size 720x576 with 1 Axes>"
            ]
          },
          "metadata": {
            "tags": []
          }
        }
      ]
    },
    {
      "cell_type": "markdown",
      "metadata": {
        "id": "4Z8rvuqaLJlr"
      },
      "source": [
        "### Checking loud words in original data"
      ]
    },
    {
      "cell_type": "code",
      "metadata": {
        "colab": {
          "base_uri": "https://localhost:8080/",
          "height": 545
        },
        "id": "wDC3d5y_LyJt",
        "outputId": "667dbdb6-0f72-4908-cd14-ea2ad716cf16"
      },
      "source": [
        "from wordcloud import WordCloud\n",
        "not_spams = df['news'][df['label']==0]\n",
        "spam_cloud = WordCloud(width=700,height=500,background_color='white',max_words=20).generate(' '.join(not_spams))\n",
        "\n",
        "plt.figure(figsize=(10,8),facecolor='g')\n",
        "plt.imshow(spam_cloud)\n",
        "plt.axis('off')\n",
        "plt.tight_layout(pad=0)\n",
        "plt.show()"
      ],
      "execution_count": 44,
      "outputs": [
        {
          "output_type": "display_data",
          "data": {
            "image/png": "[encoded data removed]",
            "text/plain": [
              "<Figure size 720x576 with 1 Axes>"
            ]
          },
          "metadata": {
            "tags": []
          }
        }
      ]
    },
    {
      "cell_type": "code",
      "metadata": {
        "id": "0fG6YPibL0Um"
      },
      "source": [
        ""
      ],
      "execution_count": null,
      "outputs": []
    },
    {
      "cell_type": "markdown",
      "metadata": {
        "id": "QPjFwGDTL2X_"
      },
      "source": [
        "## Vectorization:<br>TFIDFVectorizer\n"
      ]
    },
    {
      "cell_type": "code",
      "metadata": {
        "id": "xzXlPTO1L2z9"
      },
      "source": [
        "from sklearn.feature_extraction.text import TfidfVectorizer\n",
        "tf_vec = TfidfVectorizer()\n",
        "x = tf_vec.fit_transform(df['news'])"
      ],
      "execution_count": 45,
      "outputs": []
    },
    {
      "cell_type": "code",
      "metadata": {
        "id": "fP4ZoB6oL4Hl"
      },
      "source": [
        "y = df['label']"
      ],
      "execution_count": 46,
      "outputs": []
    },
    {
      "cell_type": "code",
      "metadata": {
        "id": "5rpdktyCL5Ho"
      },
      "source": [
        "#Splitting into train test split\n",
        "from sklearn.model_selection import train_test_split\n",
        "\n",
        "x_train,x_test,Y_train,y_test = train_test_split(x,y,random_state=42)"
      ],
      "execution_count": 47,
      "outputs": []
    },
    {
      "cell_type": "markdown",
      "metadata": {
        "id": "pfN9Z3riL99K"
      },
      "source": [
        "#### Model: Multinomial NB:"
      ]
    },
    {
      "cell_type": "code",
      "metadata": {
        "colab": {
          "base_uri": "https://localhost:8080/"
        },
        "id": "iu1HUIoRL-4v",
        "outputId": "ac4cfd9e-31dc-4be7-8ef7-b822227c29ae"
      },
      "source": [
        "from sklearn.naive_bayes import MultinomialNB\n",
        "naive = MultinomialNB(alpha=0)\n",
        "naive.fit(x_train,Y_train)\n",
        "\n",
        "#Making Prediction\n",
        "y_pred = naive.predict(x_test)\n",
        "\n",
        "#Printing the Metrics\n",
        "from sklearn.metrics import accuracy_score, confusion_matrix,classification_report\n",
        "#Accuracy Score\n",
        "print('Final score =>', accuracy_score(y_test,y_pred))\n",
        "\n",
        "#Confusion Matrix\n",
        "conf_mat = confusion_matrix(y_test,y_pred)\n",
        "print(\"\\n\",conf_mat)\n",
        "#Classification Report\n",
        "print(classification_report(y_test, y_pred))"
      ],
      "execution_count": 48,
      "outputs": [
        {
          "output_type": "stream",
          "text": [
            "Final score => 0.8958880139982502\n",
            "\n",
            " [[2479  119]\n",
            " [ 357 1617]]\n",
            "              precision    recall  f1-score   support\n",
            "\n",
            "           0       0.87      0.95      0.91      2598\n",
            "           1       0.93      0.82      0.87      1974\n",
            "\n",
            "    accuracy                           0.90      4572\n",
            "   macro avg       0.90      0.89      0.89      4572\n",
            "weighted avg       0.90      0.90      0.89      4572\n",
            "\n"
          ],
          "name": "stdout"
        }
      ]
    },
    {
      "cell_type": "markdown",
      "metadata": {
        "id": "JhGT8A0pMDnz"
      },
      "source": [
        "#### Model:Passive Agressive Classifier Algorithm"
      ]
    },
    {
      "cell_type": "code",
      "metadata": {
        "colab": {
          "base_uri": "https://localhost:8080/"
        },
        "id": "PqYmHf9dMEBt",
        "outputId": "665fc2ab-97e6-4328-b91b-849aa6afdf8f"
      },
      "source": [
        "from sklearn.linear_model import PassiveAggressiveClassifier\n",
        "pac = PassiveAggressiveClassifier( validation_fraction=0.25,C=3, max_iter=1000, random_state=42, \n",
        "                                   n_iter_no_change=8,\n",
        "                                   shuffle=True,\n",
        "                                   loss='hinge',\n",
        "                                   n_jobs=-1)\n",
        "\n",
        "#Training the model\n",
        "pac.fit(x_train,Y_train)\n",
        "\n",
        "#Makeing prediction\n",
        "pred = pac.predict(x_test)\n",
        "\n",
        "#Accuracy\n",
        "score = accuracy_score(y_test,pred)\n",
        "print(\"Accuracy: %0.3f\" %score)\n",
        "\n",
        "#Confusion Matrix\n",
        "cm = confusion_matrix(y_test,pred)\n",
        "print('\\n',cm)\n",
        "\n",
        "#Classification Report\n",
        "print(classification_report(y_test, pred))"
      ],
      "execution_count": 49,
      "outputs": [
        {
          "output_type": "stream",
          "text": [
            "Accuracy: 0.964\n",
            "\n",
            " [[2516   82]\n",
            " [  84 1890]]\n",
            "              precision    recall  f1-score   support\n",
            "\n",
            "           0       0.97      0.97      0.97      2598\n",
            "           1       0.96      0.96      0.96      1974\n",
            "\n",
            "    accuracy                           0.96      4572\n",
            "   macro avg       0.96      0.96      0.96      4572\n",
            "weighted avg       0.96      0.96      0.96      4572\n",
            "\n"
          ],
          "name": "stdout"
        }
      ]
    },
    {
      "cell_type": "markdown",
      "metadata": {
        "id": "uHr-CFVNMGre"
      },
      "source": [
        "#### Using Hashing Vectorizer"
      ]
    },
    {
      "cell_type": "code",
      "metadata": {
        "id": "NrubA8G1MHn8"
      },
      "source": [
        "from sklearn.feature_extraction.text import HashingVectorizer\n",
        "hs_vectorizer=HashingVectorizer(n_features=30000, binary=bool)\n",
        "\n",
        "x = hs_vectorizer.fit_transform(df['news']).toarray()"
      ],
      "execution_count": 50,
      "outputs": []
    },
    {
      "cell_type": "code",
      "metadata": {
        "id": "YakK8QnTMIoS"
      },
      "source": [
        "y = df['label']\n"
      ],
      "execution_count": 51,
      "outputs": []
    },
    {
      "cell_type": "code",
      "metadata": {
        "id": "pL7iLx-2MVvI"
      },
      "source": [
        "from sklearn.model_selection import train_test_split\n",
        "x_train, x_test, y_train, y_test = train_test_split(x, y, test_size=0.30, random_state=0)"
      ],
      "execution_count": 53,
      "outputs": []
    },
    {
      "cell_type": "markdown",
      "metadata": {
        "id": "Nr89Mt6pMev7"
      },
      "source": [
        "MultinomialNB¶\n"
      ]
    },
    {
      "cell_type": "code",
      "metadata": {
        "colab": {
          "base_uri": "https://localhost:8080/"
        },
        "id": "3rg2PdHsMhYJ",
        "outputId": "d4c44b5d-2dc0-4b55-ae0a-eccd918b406e"
      },
      "source": [
        "# Train the model\n",
        "from sklearn.naive_bayes import MultinomialNB\n",
        "naive = MultinomialNB(alpha=0)\n",
        "naive.fit(x_train,y_train)\n",
        "\n",
        "#Making Prediction\n",
        "y_pred = naive.predict(x_test)\n",
        "\n",
        "#Printing the Metrics\n",
        "from sklearn.metrics import accuracy_score, confusion_matrix,classification_report\n",
        "#Accuracy Score\n",
        "print('Final score =>', accuracy_score(y_test,y_pred))\n",
        "\n",
        "\n",
        "#Classification Report\n",
        "print(classification_report(y_test, y_pred))\n"
      ],
      "execution_count": 58,
      "outputs": [
        {
          "output_type": "stream",
          "text": [
            "Final score => 0.8751367116296026\n",
            "              precision    recall  f1-score   support\n",
            "\n",
            "           0       0.86      0.93      0.89      3068\n",
            "           1       0.90      0.81      0.85      2418\n",
            "\n",
            "    accuracy                           0.88      5486\n",
            "   macro avg       0.88      0.87      0.87      5486\n",
            "weighted avg       0.88      0.88      0.87      5486\n",
            "\n"
          ],
          "name": "stdout"
        }
      ]
    },
    {
      "cell_type": "code",
      "metadata": {
        "id": "UDkbbTS9M6rH"
      },
      "source": [
        ""
      ],
      "execution_count": null,
      "outputs": []
    },
    {
      "cell_type": "markdown",
      "metadata": {
        "id": "gmnOVzmPM-kc"
      },
      "source": [
        "Passive Aggressive Classifier Algorithm¶\n"
      ]
    },
    {
      "cell_type": "code",
      "metadata": {
        "colab": {
          "base_uri": "https://localhost:8080/"
        },
        "id": "vxKYVnjrM-05",
        "outputId": "075fbe50-1e25-4092-9ce7-cc14c33c7516"
      },
      "source": [
        "# Train the model\n",
        "from sklearn.linear_model import PassiveAggressiveClassifier\n",
        "pac_model = PassiveAggressiveClassifier( validation_fraction=0.25,C=3, max_iter=1000, random_state=42, \n",
        "                                         n_iter_no_change=8,\n",
        "                                         shuffle=True,\n",
        "                                         loss='hinge',\n",
        "                                         n_jobs=-1)\n",
        "pac_model.fit(x_train,y_train)\n",
        "\n",
        "#Making Prediction\n",
        "pred = pac_model.predict(x_test)\n",
        "\n",
        "#Printing the Metrics\n",
        "from sklearn.metrics import accuracy_score, confusion_matrix,classification_report\n",
        "#Accuracy Score\n",
        "print('Final score =>', accuracy_score(y_test,pred))\n",
        "\n",
        "#Classification Report\n",
        "print(classification_report(y_test,pred))"
      ],
      "execution_count": 61,
      "outputs": [
        {
          "output_type": "stream",
          "text": [
            "Final score => 0.958075100255195\n",
            "              precision    recall  f1-score   support\n",
            "\n",
            "           0       0.96      0.97      0.96      3068\n",
            "           1       0.96      0.94      0.95      2418\n",
            "\n",
            "    accuracy                           0.96      5486\n",
            "   macro avg       0.96      0.96      0.96      5486\n",
            "weighted avg       0.96      0.96      0.96      5486\n",
            "\n"
          ],
          "name": "stdout"
        }
      ]
    },
    {
      "cell_type": "markdown",
      "metadata": {
        "id": "h72-49Z6NLRy"
      },
      "source": [
        "### Comparing TFIDF and Hashing Vectorizing Passive Aggressive Classifier with Tfidf gives better results so saving this model for further usage"
      ]
    },
    {
      "cell_type": "code",
      "metadata": {
        "colab": {
          "base_uri": "https://localhost:8080/"
        },
        "id": "r8BqPuXMNjLN",
        "outputId": "60ee5561-956b-40b6-f30f-891522cf3c3d"
      },
      "source": [
        "#Saving model:\n",
        "import joblib\n",
        "joblib.dump(pac, 'Fake_news_TFIDF.csv')"
      ],
      "execution_count": 62,
      "outputs": [
        {
          "output_type": "execute_result",
          "data": {
            "text/plain": [
              "['Fake_news_TFIDF.csv']"
            ]
          },
          "metadata": {
            "tags": []
          },
          "execution_count": 62
        }
      ]
    },
    {
      "cell_type": "code",
      "metadata": {
        "id": "Y6_GlsV7Nxv9"
      },
      "source": [
        ""
      ],
      "execution_count": null,
      "outputs": []
    },
    {
      "cell_type": "code",
      "metadata": {
        "id": "mSwMv4uHNIBV"
      },
      "source": [
        ""
      ],
      "execution_count": null,
      "outputs": []
    },
    {
      "cell_type": "code",
      "metadata": {
        "id": "AID_brCkNEE3"
      },
      "source": [
        ""
      ],
      "execution_count": null,
      "outputs": []
    },
    {
      "cell_type": "code",
      "metadata": {
        "id": "PbiOFu-rM4iT"
      },
      "source": [
        ""
      ],
      "execution_count": null,
      "outputs": []
    },
    {
      "cell_type": "code",
      "metadata": {
        "id": "OZjfulZvMzJ3"
      },
      "source": [
        ""
      ],
      "execution_count": null,
      "outputs": []
    },
    {
      "cell_type": "code",
      "metadata": {
        "id": "eIzZCx4qMvDB"
      },
      "source": [
        ""
      ],
      "execution_count": null,
      "outputs": []
    },
    {
      "cell_type": "code",
      "metadata": {
        "id": "V-rLOI4uMmrE"
      },
      "source": [
        ""
      ],
      "execution_count": null,
      "outputs": []
    },
    {
      "cell_type": "markdown",
      "metadata": {
        "id": "0wJRfCaZMoeS"
      },
      "source": [
        ""
      ]
    },
    {
      "cell_type": "code",
      "metadata": {
        "id": "hrJ6-vvaMfTe"
      },
      "source": [
        ""
      ],
      "execution_count": null,
      "outputs": []
    },
    {
      "cell_type": "code",
      "metadata": {
        "id": "IBFa6fjeMYtT"
      },
      "source": [
        ""
      ],
      "execution_count": null,
      "outputs": []
    },
    {
      "cell_type": "code",
      "metadata": {
        "id": "rmM6KwP4ME-k"
      },
      "source": [
        ""
      ],
      "execution_count": null,
      "outputs": []
    },
    {
      "cell_type": "code",
      "metadata": {
        "id": "Av8wftn5MBUx"
      },
      "source": [
        ""
      ],
      "execution_count": null,
      "outputs": []
    },
    {
      "cell_type": "code",
      "metadata": {
        "id": "-JAU88RPKlpm"
      },
      "source": [
        ""
      ],
      "execution_count": null,
      "outputs": []
    },
    {
      "cell_type": "code",
      "metadata": {
        "id": "ucnZH8wrKb5T"
      },
      "source": [
        ""
      ],
      "execution_count": null,
      "outputs": []
    },
    {
      "cell_type": "code",
      "metadata": {
        "id": "8DnKkjNBKHdA"
      },
      "source": [
        ""
      ],
      "execution_count": null,
      "outputs": []
    },
    {
      "cell_type": "code",
      "metadata": {
        "id": "lMv2hgGYJm3V"
      },
      "source": [
        ""
      ],
      "execution_count": null,
      "outputs": []
    },
    {
      "cell_type": "code",
      "metadata": {
        "id": "-LR6gbICJVxo"
      },
      "source": [
        ""
      ],
      "execution_count": null,
      "outputs": []
    },
    {
      "cell_type": "code",
      "metadata": {
        "id": "iZ_LRek_JP6S"
      },
      "source": [
        ""
      ],
      "execution_count": null,
      "outputs": []
    },
    {
      "cell_type": "code",
      "metadata": {
        "id": "MdNmCu1sJE2n"
      },
      "source": [
        ""
      ],
      "execution_count": null,
      "outputs": []
    },
    {
      "cell_type": "code",
      "metadata": {
        "id": "CP3c8zNNI72s"
      },
      "source": [
        ""
      ],
      "execution_count": null,
      "outputs": []
    },
    {
      "cell_type": "code",
      "metadata": {
        "id": "LFprHOA3H-AQ"
      },
      "source": [
        ""
      ],
      "execution_count": null,
      "outputs": []
    },
    {
      "cell_type": "code",
      "metadata": {
        "id": "JTYDrGQDGp4D"
      },
      "source": [
        ""
      ],
      "execution_count": null,
      "outputs": []
    }
  ]
}